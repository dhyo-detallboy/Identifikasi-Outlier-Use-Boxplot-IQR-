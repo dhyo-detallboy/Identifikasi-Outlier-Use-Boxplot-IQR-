{
 "cells": [
  {
   "cell_type": "markdown",
   "metadata": {},
   "source": [
    "### Identifikasi Outlier (Use Boxplot & IQR)"
   ]
  },
  {
   "cell_type": "markdown",
   "metadata": {},
   "source": [
    "1. Import Library yang diperlukan"
   ]
  },
  {
   "cell_type": "code",
   "execution_count": 1,
   "metadata": {},
   "outputs": [],
   "source": [
    "import numpy as np \n",
    "import pandas as pd\n",
    "import matplotlib.pyplot as plt"
   ]
  },
  {
   "cell_type": "markdown",
   "metadata": {},
   "source": [
    "2. Data yang akan digunakan"
   ]
  },
  {
   "cell_type": "markdown",
   "metadata": {},
   "source": [
    "Data yang digunakan dalam contoh ini adalah data terkait tinggi badan (dalam satuan cm) yang terdiri dari 10 nilai. Data ini awalnya disusun dalam format List, kemudian diubah menjadi DataFrame menggunakan library Pandas, yang memungkinkan kita untuk melakukan analisis lebih lanjut pada data tersebut."
   ]
  },
  {
   "cell_type": "code",
   "execution_count": 2,
   "metadata": {},
   "outputs": [],
   "source": [
    "# List data tinggi badan\n",
    "data = [150, 155, 160, 165, 170, 175, 180, 185, 200, 250]\n",
    "\n",
    "# Convert list menjadi dataframe\n",
    "df = pd.DataFrame(data, columns=['Height'])\n"
   ]
  },
  {
   "cell_type": "markdown",
   "metadata": {},
   "source": [
    "3. Melakukan plotting Boxplot"
   ]
  },
  {
   "cell_type": "code",
   "execution_count": 3,
   "metadata": {},
   "outputs": [
    {
     "data": {
      "image/png": "[encoded data removed]",
      "text/plain": [
       "<Figure size 640x480 with 1 Axes>"
      ]
     },
     "metadata": {},
     "output_type": "display_data"
    }
   ],
   "source": [
    "plt.boxplot(df['Height'])\n",
    "plt.title(\"Boxplot of Heights\")\n",
    "plt.ylabel(\"Height (cm)\")\n",
    "plt.show()"
   ]
  },
  {
   "cell_type": "markdown",
   "metadata": {},
   "source": [
    "4. Identifikasi outlier mengginakan IQR (Interquartile Range)"
   ]
  },
  {
   "cell_type": "markdown",
   "metadata": {},
   "source": [
    "### Interquartile Range (Rentang Antar-Kuartil)\n",
    "Interquartile Range (IQR) adalah ukuran statistik yang digunakan untuk menggambarkan sebaran nilai dalam dataset. IQR juga digunakan untuk mengidentifikasi data yang dianggap **outlier**.\n",
    "\n",
    "#### Rumus IQR:\n",
    "\\[\n",
    "IQR = Q3 - Q1\n",
    "\\]\n",
    "\n",
    "- **Q1 (Kuartil 1):** Nilai di mana 25% data berada di bawahnya (batas bawah).\n",
    "- **Q3 (Kuartil 3):** Nilai di mana 75% data berada di bawahnya (batas atas).\n",
    "- **IQR:** Rentang antar-kuartil, yang menunjukkan sebaran tengah 50% data.\n"
   ]
  },
  {
   "cell_type": "code",
   "execution_count": 4,
   "metadata": {},
   "outputs": [],
   "source": [
    "# Menghitung Kuartil\n",
    "Q1 = df['Height'].quantile(0.25) # Kuartil 1\n",
    "Q3 = df['Height'].quantile(0.75) # Kuartil 3\n",
    "\n",
    "# Menghitung IQR\n",
    "IQR = Q3 - Q1\n",
    "\n",
    "# Menentukan Batas Bawah & Batas Atas\n",
    "lower_bound = Q1 - 1.5 * IQR\n",
    "upper_bound = Q3 + 1.5 * IQR"
   ]
  },
  {
   "cell_type": "markdown",
   "metadata": {},
   "source": [
    "5. Menandai Data Outlier"
   ]
  },
  {
   "cell_type": "markdown",
   "metadata": {},
   "source": [
    "Melakukan penandaan atau label terhadap nilai yang dianggap sebagai outlier pada kolom **\"Height\"** dalam DataFrame. Baris kode ini membuat kolom baru bernama **Is_Outlier** yang berisi nilai `True` jika nilai dalam kolom **Height** lebih kecil dari batas bawah (**lower_bound**) atau lebih besar dari batas atas (**upper_bound**), yang dihitung menggunakan metode **Interquartile Range (IQR)**.\n"
   ]
  },
  {
   "cell_type": "code",
   "execution_count": 5,
   "metadata": {},
   "outputs": [],
   "source": [
    "df['Is_Outlier'] = (df['Height'] < lower_bound) | (df['Height'] > upper_bound)"
   ]
  },
  {
   "cell_type": "markdown",
   "metadata": {},
   "source": [
    "6. Menampilkan hasil identifikasi Outlier"
   ]
  },
  {
   "cell_type": "code",
   "execution_count": 6,
   "metadata": {},
   "outputs": [
    {
     "name": "stdout",
     "output_type": "stream",
     "text": [
      "Batas bawah :  127.5\n",
      "Batas atas :  217.5\n",
      "\n",
      "Data dengan tanda outlier : \n",
      "   Height  Is_Outlier\n",
      "0     150       False\n",
      "1     155       False\n",
      "2     160       False\n",
      "3     165       False\n",
      "4     170       False\n",
      "5     175       False\n",
      "6     180       False\n",
      "7     185       False\n",
      "8     200       False\n",
      "9     250        True\n"
     ]
    }
   ],
   "source": [
    "print(\"Batas bawah : \", lower_bound)\n",
    "print(\"Batas atas : \", upper_bound)\n",
    "print(\"\\nData dengan tanda outlier : \")\n",
    "print(df)"
   ]
  }
 ],
 "metadata": {
  "kernelspec": {
   "display_name": "Python 3",
   "language": "python",
   "name": "python3"
  },
  "language_info": {
   "codemirror_mode": {
    "name": "ipython",
    "version": 3
   },
   "file_extension": ".py",
   "mimetype": "text/x-python",
   "name": "python",
   "nbconvert_exporter": "python",
   "pygments_lexer": "ipython3",
   "version": "3.9.1"
  }
 },
 "nbformat": 4,
 "nbformat_minor": 2
}
