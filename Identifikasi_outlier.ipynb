{
 "cells": [
  {
   "cell_type": "markdown",
   "metadata": {},
   "source": [
    "### Identifikasi Outlier (Use Boxplot & IQR)"
   ]
  },
  {
   "cell_type": "markdown",
   "metadata": {},
   "source": [
    "- By Alif Dio A."
   ]
  },
  {
   "cell_type": "markdown",
   "metadata": {},
   "source": [
    "1. Import Library yang diperlukan"
   ]
  },
  {
   "cell_type": "code",
   "execution_count": 4,
   "metadata": {},
   "outputs": [],
   "source": [
    "import numpy as np \n",
    "import pandas as pd\n",
    "import matplotlib.pyplot as plt\n",
    "import seaborn as sns"
   ]
  },
  {
   "cell_type": "markdown",
   "metadata": {},
   "source": [
    "2. Data yang akan digunakan"
   ]
  },
  {
   "cell_type": "markdown",
   "metadata": {},
   "source": [
    "Data yang digunakan dalam contoh ini adalah data terkait tinggi badan (dalam satuan cm) yang terdiri dari 10 nilai. Data ini awalnya disusun dalam format List, kemudian diubah menjadi DataFrame menggunakan library Pandas, yang memungkinkan kita untuk melakukan analisis lebih lanjut pada data tersebut."
   ]
  },
  {
   "cell_type": "markdown",
   "metadata": {},
   "source": [
    "- Import by List"
   ]
  },
  {
   "cell_type": "code",
   "execution_count": 5,
   "metadata": {},
   "outputs": [],
   "source": [
    "# # List data tinggi badan\n",
    "# data = [150, 155, 160, 165, 170, 175, 180, 185, 200, 250]\n",
    "\n",
    "# # Convert list menjadi dataframe\n",
    "# df = pd.DataFrame(data, columns=['Height'])\n"
   ]
  },
  {
   "cell_type": "markdown",
   "metadata": {},
   "source": [
    "- Import by .csv file"
   ]
  },
  {
   "cell_type": "code",
   "execution_count": 6,
   "metadata": {},
   "outputs": [
    {
     "data": {
      "text/html": [
       "<div>\n",
       "<style scoped>\n",
       "    .dataframe tbody tr th:only-of-type {\n",
       "        vertical-align: middle;\n",
       "    }\n",
       "\n",
       "    .dataframe tbody tr th {\n",
       "        vertical-align: top;\n",
       "    }\n",
       "\n",
       "    .dataframe thead th {\n",
       "        text-align: right;\n",
       "    }\n",
       "</style>\n",
       "<table border=\"1\" class=\"dataframe\">\n",
       "  <thead>\n",
       "    <tr style=\"text-align: right;\">\n",
       "      <th></th>\n",
       "      <th>ID</th>\n",
       "      <th>Height</th>\n",
       "      <th>Weight</th>\n",
       "    </tr>\n",
       "  </thead>\n",
       "  <tbody>\n",
       "    <tr>\n",
       "      <th>0</th>\n",
       "      <td>1</td>\n",
       "      <td>170</td>\n",
       "      <td>65</td>\n",
       "    </tr>\n",
       "    <tr>\n",
       "      <th>1</th>\n",
       "      <td>2</td>\n",
       "      <td>180</td>\n",
       "      <td>75</td>\n",
       "    </tr>\n",
       "    <tr>\n",
       "      <th>2</th>\n",
       "      <td>3</td>\n",
       "      <td>150</td>\n",
       "      <td>45</td>\n",
       "    </tr>\n",
       "    <tr>\n",
       "      <th>3</th>\n",
       "      <td>4</td>\n",
       "      <td>160</td>\n",
       "      <td>55</td>\n",
       "    </tr>\n",
       "    <tr>\n",
       "      <th>4</th>\n",
       "      <td>5</td>\n",
       "      <td>165</td>\n",
       "      <td>60</td>\n",
       "    </tr>\n",
       "    <tr>\n",
       "      <th>5</th>\n",
       "      <td>6</td>\n",
       "      <td>175</td>\n",
       "      <td>70</td>\n",
       "    </tr>\n",
       "    <tr>\n",
       "      <th>6</th>\n",
       "      <td>7</td>\n",
       "      <td>155</td>\n",
       "      <td>50</td>\n",
       "    </tr>\n",
       "    <tr>\n",
       "      <th>7</th>\n",
       "      <td>8</td>\n",
       "      <td>200</td>\n",
       "      <td>90</td>\n",
       "    </tr>\n",
       "    <tr>\n",
       "      <th>8</th>\n",
       "      <td>9</td>\n",
       "      <td>165</td>\n",
       "      <td>60</td>\n",
       "    </tr>\n",
       "    <tr>\n",
       "      <th>9</th>\n",
       "      <td>10</td>\n",
       "      <td>167</td>\n",
       "      <td>67</td>\n",
       "    </tr>\n",
       "    <tr>\n",
       "      <th>10</th>\n",
       "      <td>11</td>\n",
       "      <td>162</td>\n",
       "      <td>58</td>\n",
       "    </tr>\n",
       "    <tr>\n",
       "      <th>11</th>\n",
       "      <td>12</td>\n",
       "      <td>158</td>\n",
       "      <td>53</td>\n",
       "    </tr>\n",
       "    <tr>\n",
       "      <th>12</th>\n",
       "      <td>13</td>\n",
       "      <td>210</td>\n",
       "      <td>100</td>\n",
       "    </tr>\n",
       "    <tr>\n",
       "      <th>13</th>\n",
       "      <td>14</td>\n",
       "      <td>185</td>\n",
       "      <td>80</td>\n",
       "    </tr>\n",
       "    <tr>\n",
       "      <th>14</th>\n",
       "      <td>15</td>\n",
       "      <td>168</td>\n",
       "      <td>65</td>\n",
       "    </tr>\n",
       "  </tbody>\n",
       "</table>\n",
       "</div>"
      ],
      "text/plain": [
       "    ID  Height  Weight\n",
       "0    1     170      65\n",
       "1    2     180      75\n",
       "2    3     150      45\n",
       "3    4     160      55\n",
       "4    5     165      60\n",
       "5    6     175      70\n",
       "6    7     155      50\n",
       "7    8     200      90\n",
       "8    9     165      60\n",
       "9   10     167      67\n",
       "10  11     162      58\n",
       "11  12     158      53\n",
       "12  13     210     100\n",
       "13  14     185      80\n",
       "14  15     168      65"
      ]
     },
     "execution_count": 6,
     "metadata": {},
     "output_type": "execute_result"
    }
   ],
   "source": [
    "# Load dataset .csv\n",
    "df = pd.read_csv('height_weight.csv')\n",
    "df"
   ]
  },
  {
   "cell_type": "markdown",
   "metadata": {},
   "source": [
    "3. Melakukan plotting Boxplot"
   ]
  },
  {
   "cell_type": "code",
   "execution_count": 7,
   "metadata": {},
   "outputs": [
    {
     "data": {
      "image/png": "[encoded data removed]",
      "text/plain": [
       "<Figure size 640x480 with 1 Axes>"
      ]
     },
     "metadata": {},
     "output_type": "display_data"
    }
   ],
   "source": [
    "plt.boxplot(df['Height'])\n",
    "plt.title(\"Boxplot of Heights\")\n",
    "plt.ylabel(\"Height (cm)\")\n",
    "plt.show()"
   ]
  },
  {
   "cell_type": "markdown",
   "metadata": {},
   "source": [
    "4. Identifikasi outlier mengginakan IQR (Interquartile Range)"
   ]
  },
  {
   "cell_type": "markdown",
   "metadata": {},
   "source": [
    "### Interquartile Range (Rentang Antar-Kuartil)\n",
    "Interquartile Range (IQR) adalah ukuran statistik yang digunakan untuk menggambarkan sebaran nilai dalam dataset. IQR juga digunakan untuk mengidentifikasi data yang dianggap **outlier**.\n",
    "\n",
    "#### Rumus IQR:\n",
    "\\[\n",
    "IQR = Q3 - Q1\n",
    "\\]\n",
    "\n",
    "- **Q1 (Kuartil 1):** Nilai di mana 25% data berada di bawahnya (batas bawah).\n",
    "- **Q3 (Kuartil 3):** Nilai di mana 75% data berada di bawahnya (batas atas).\n",
    "- **IQR:** Rentang antar-kuartil, yang menunjukkan sebaran tengah 50% data.\n"
   ]
  },
  {
   "cell_type": "code",
   "execution_count": 8,
   "metadata": {},
   "outputs": [],
   "source": [
    "# Menghitung Kuartil\n",
    "Q1 = df['Height'].quantile(0.25) # Kuartil 1\n",
    "Q3 = df['Height'].quantile(0.75) # Kuartil 3\n",
    "\n",
    "# Menghitung IQR\n",
    "IQR = Q3 - Q1\n",
    "\n",
    "# Menentukan Batas Bawah & Batas Atas\n",
    "lower_bound = Q1 - 1.5 * IQR\n",
    "upper_bound = Q3 + 1.5 * IQR"
   ]
  },
  {
   "cell_type": "markdown",
   "metadata": {},
   "source": [
    "5. Menandai Data Outlier"
   ]
  },
  {
   "cell_type": "markdown",
   "metadata": {},
   "source": [
    "Melakukan penandaan atau label terhadap nilai yang dianggap sebagai outlier pada kolom **\"Height\"** dalam DataFrame. Baris kode ini membuat kolom baru bernama **Is_Outlier** yang berisi nilai `True` jika nilai dalam kolom **Height** lebih kecil dari batas bawah (**lower_bound**) atau lebih besar dari batas atas (**upper_bound**), yang dihitung menggunakan metode **Interquartile Range (IQR)**.\n"
   ]
  },
  {
   "cell_type": "code",
   "execution_count": 9,
   "metadata": {},
   "outputs": [],
   "source": [
    "df['Is_Outlier'] = (df['Height'] < lower_bound) | (df['Height'] > upper_bound)"
   ]
  },
  {
   "cell_type": "markdown",
   "metadata": {},
   "source": [
    "6. Menampilkan hasil identifikasi Outlier"
   ]
  },
  {
   "cell_type": "code",
   "execution_count": 10,
   "metadata": {},
   "outputs": [
    {
     "name": "stdout",
     "output_type": "stream",
     "text": [
      "Batas bawah :  136.25\n",
      "Batas atas :  202.25\n",
      "\n",
      "Data dengan tanda outlier : \n",
      "    ID  Height  Weight  Is_Outlier\n",
      "0    1     170      65       False\n",
      "1    2     180      75       False\n",
      "2    3     150      45       False\n",
      "3    4     160      55       False\n",
      "4    5     165      60       False\n",
      "5    6     175      70       False\n",
      "6    7     155      50       False\n",
      "7    8     200      90       False\n",
      "8    9     165      60       False\n",
      "9   10     167      67       False\n",
      "10  11     162      58       False\n",
      "11  12     158      53       False\n",
      "12  13     210     100        True\n",
      "13  14     185      80       False\n",
      "14  15     168      65       False\n"
     ]
    }
   ],
   "source": [
    "print(\"Batas bawah : \", lower_bound)\n",
    "print(\"Batas atas : \", upper_bound)\n",
    "print(\"\\nData dengan tanda outlier : \")\n",
    "print(df)"
   ]
  }
 ],
 "metadata": {
  "kernelspec": {
   "display_name": "Python 3",
   "language": "python",
   "name": "python3"
  },
  "language_info": {
   "codemirror_mode": {
    "name": "ipython",
    "version": 3
   },
   "file_extension": ".py",
   "mimetype": "text/x-python",
   "name": "python",
   "nbconvert_exporter": "python",
   "pygments_lexer": "ipython3",
   "version": "3.9.1"
  }
 },
 "nbformat": 4,
 "nbformat_minor": 2
}
